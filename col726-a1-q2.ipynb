{
  "nbformat": 4,
  "nbformat_minor": 0,
  "metadata": {
    "colab": {
      "name": "Untitled2.ipynb",
      "provenance": [],
      "authorship_tag": "ABX9TyN/BYjd6BkQvaUHDRFkPsik",
      "include_colab_link": true
    },
    "kernelspec": {
      "name": "python3",
      "display_name": "Python 3"
    },
    "language_info": {
      "name": "python"
    }
  },
  "cells": [
    {
      "cell_type": "markdown",
      "metadata": {
        "id": "view-in-github",
        "colab_type": "text"
      },
      "source": [
        "<a href=\"https://colab.research.google.com/github/vinayakvijay/APL705/blob/main/col726-a1-q2.ipynb\" target=\"_parent\"><img src=\"https://colab.research.google.com/assets/colab-badge.svg\" alt=\"Open In Colab\"/></a>"
      ]
    },
    {
      "cell_type": "code",
      "execution_count": 4,
      "metadata": {
        "colab": {
          "base_uri": "https://localhost:8080/",
          "height": 269
        },
        "id": "BXeLT7Xiaqz5",
        "outputId": "17a6acb9-aa12-4717-fda4-01b3ec82935a"
      },
      "outputs": [
        {
          "output_type": "display_data",
          "data": {
            "image/png": "[encoded data removed]",
            "text/plain": [
              "<Figure size 432x288 with 1 Axes>"
            ]
          },
          "metadata": {
            "needs_background": "light"
          }
        }
      ],
      "source": [
        "import numpy as np\n",
        "import math\n",
        "import matplotlib.pyplot as plt\n",
        "\n",
        "\n",
        "x = np.arange(0,1e-2,1e-5)\n",
        "f1 = 1-np.cos(x)\n",
        "\n",
        "def sumCosine(degrees, terms):\n",
        "  # taking a variable which stores sum of cosine series\n",
        "    sumCosSeries = 1\n",
        "    # taking sign variable and initialize it to -1\n",
        "    signofSequence = -1\n",
        "    for i in range(2, terms, 2):\n",
        "        # pie value\n",
        "        pievalue = 22/7\n",
        "        # degree value of given number\n",
        "        degval = degrees*(pievalue/180)\n",
        "        sumCosSeries = sumCosSeries + \\\n",
        "            (signofSequence*(degval**i))/math.factorial(i)\n",
        "        # changing the sign by multiplying it with -1\n",
        "        signofSequence = -1*signofSequence\n",
        "     # returning the sum of cosine series\n",
        "    return sumCosSeries\n",
        "\n",
        "\n",
        "\n",
        "fig, ax1 = plt.subplots()\n",
        "ax1.loglog(x,f1, basex = 10)\n",
        "\n",
        "plt.show()\n"
      ]
    }
  ]
}