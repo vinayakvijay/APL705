{
  "nbformat": 4,
  "nbformat_minor": 0,
  "metadata": {
    "colab": {
      "name": "col726-a1-q2.ipynb",
      "provenance": [],
      "collapsed_sections": [],
      "authorship_tag": "ABX9TyMjtOcMOvaZq3HMhfLOaxhg",
      "include_colab_link": true
    },
    "kernelspec": {
      "name": "python3",
      "display_name": "Python 3"
    },
    "language_info": {
      "name": "python"
    }
  },
  "cells": [
    {
      "cell_type": "markdown",
      "metadata": {
        "id": "view-in-github",
        "colab_type": "text"
      },
      "source": [
        "<a href=\"https://colab.research.google.com/github/vinayakvijay/APL705/blob/main/col726_a1_q2.ipynb\" target=\"_parent\"><img src=\"https://colab.research.google.com/assets/colab-badge.svg\" alt=\"Open In Colab\"/></a>"
      ]
    },
    {
      "cell_type": "code",
      "execution_count": 23,
      "metadata": {
        "colab": {
          "base_uri": "https://localhost:8080/",
          "height": 269
        },
        "id": "BXeLT7Xiaqz5",
        "outputId": "95f1928a-1bba-469b-dd0e-7eca3399d6b2"
      },
      "outputs": [
        {
          "output_type": "display_data",
          "data": {
            "image/png": "[encoded data removed]",
            "text/plain": [
              "<Figure size 432x288 with 1 Axes>"
            ]
          },
          "metadata": {
            "needs_background": "light"
          }
        }
      ],
      "source": [
        "import numpy as np\n",
        "import math\n",
        "import matplotlib.pyplot as plt\n",
        "\n",
        "\n",
        "x = np.arange(0,1e-2,1e-5)\n",
        "f1 = 1-np.cos(x)\n",
        "\n",
        "def sumCosine(degrees, terms):\n",
        "  # taking a variable which stores sum of cosine series\n",
        "    sumCosSeries = 1\n",
        "    # taking sign variable and initialize it to -1\n",
        "    signofSequence = -1\n",
        "    for i in range(2, terms, 2):\n",
        "        degval = degrees\n",
        "        sumCosSeries = sumCosSeries + \\\n",
        "            (signofSequence*(degval**i))/math.factorial(i)\n",
        "        # changing the sign by multiplying it with -1\n",
        "        signofSequence = -1*signofSequence\n",
        "     # returning the sum of cosine series\n",
        "    return sumCosSeries\n",
        "\n",
        "sum = []\n",
        "for i in range(len(x)):\n",
        "  sum_x = 1-sumCosine(x[i],30)\n",
        "  sum.append(sum_x)\n",
        "\n",
        "fig, ax1 = plt.subplots()\n",
        "ax1.loglog(x,f1,'g-*' , markevery=1,  basex = 10)\n",
        "ax1.loglog(x,sum,'r-*' , markevery=10, basex = 10)\n",
        "\n",
        "plt.show()\n"
      ]
    }
  ]
}